{
 "cells": [
  {
   "cell_type": "code",
   "execution_count": 11,
   "id": "16fa420f-936c-4422-b31e-0b3c4ec437b2",
   "metadata": {},
   "outputs": [],
   "source": [
    "from selenium.webdriver.chrome.service import Service\n",
    "from webdriver_manager.chrome import ChromeDriverManager\n",
    "from selenium import webdriver\n",
    "from selenium.webdriver.common.by import By"
   ]
  },
  {
   "cell_type": "code",
   "execution_count": 17,
   "id": "de6ce5fc",
   "metadata": {},
   "outputs": [],
   "source": [
    "# with webdriver.Chrome(service=Service(ChromeDriverManager().install())) as driver:\n",
    "from selenium.webdriver.support.ui import WebDriverWait\n",
    "from selenium.webdriver.support import expected_conditions as EC\n",
    "from selenium.webdriver import ActionChains\n",
    "import time"
   ]
  },
  {
   "cell_type": "code",
   "execution_count": 25,
   "id": "1837a82d",
   "metadata": {},
   "outputs": [
    {
     "name": "stdout",
     "output_type": "stream",
     "text": [
      "⏰ 최대 스크롤 시간 초과 - 중단\n",
      "총 25개의 링크가 발견되었습니다.\n"
     ]
    }
   ],
   "source": [
    "concert_name = []\n",
    "concert_location = []\n",
    "concert_date = []\n",
    "\n",
    "\n",
    "with webdriver.Chrome(service=Service(ChromeDriverManager().install())) as driver:\n",
    "    driver.get(\"https://tickets.interpark.com/contents/genre/concert\")\n",
    "\n",
    "    # click \"콘서트 전체보기\"\n",
    "    all_button = WebDriverWait(driver, 10).until(EC.presence_of_element_located((By.XPATH, '//*[@id=\"contents\"]/article[1]/section/div/div/div/button[1]')))\n",
    "    ActionChains(driver).click(all_button).perform()\n",
    "\n",
    "    # scroll down inifinitely, with a limit of 60 seconds\n",
    "    SCROLL_PAUSE_TIME = 4\n",
    "    MAX_SCROLL_DURATION = 10  # 최대 60초 (1분)\n",
    "\n",
    "    start_time = time.time()\n",
    "    last_height = driver.execute_script(\"return document.body.scrollHeight\")\n",
    "\n",
    "    while True:\n",
    "        current_time = time.time()\n",
    "        if current_time - start_time > MAX_SCROLL_DURATION:\n",
    "            print(\"최대 스크롤 시간 초과 - 중단\")\n",
    "            break\n",
    "\n",
    "        # scroll down to the bottom\n",
    "        driver.execute_script(\"window.scrollTo(0, document.body.scrollHeight);\")\n",
    "        time.sleep(SCROLL_PAUSE_TIME)\n",
    "\n",
    "        new_height = driver.execute_script(\"return document.body.scrollHeight\")\n",
    "        if new_height == last_height:\n",
    "            print(\"더 이상 스크롤할 내용 없음 - 중단\")\n",
    "            break\n",
    "\n",
    "        last_height = new_height\n",
    "    # end of the scrolling\n",
    "\n",
    "\n",
    "    # locate the concert container and append the concert information\n",
    "    container = driver.find_element(By.XPATH, '//*[@id=\"contents\"]/article[5]/section/div[2]/div[2]')\n",
    "    a_tags = container.find_elements(By.TAG_NAME, \"a\")\n",
    "\n",
    "    for i in range(1, len(a_tags)+1):\n",
    "        concert_name.append(driver.find_element(By.XPATH, f'//*[@id=\"contents\"]/article[5]/section/div[2]/div[2]/a[{i}]/ul/li[1]').text)\n",
    "        concert_location.append(driver.find_element(By.XPATH, f'//*[@id=\"contents\"]/article[5]/section/div[2]/div[2]/a[{i}]/ul/li[2]').text)\n",
    "        concert_date.append(driver.find_element(By.XPATH, f'//*[@id=\"contents\"]/article[5]/section/div[2]/div[2]/a[{i}]/ul/li[3]').text)"
   ]
  },
  {
   "cell_type": "code",
   "execution_count": 27,
   "id": "7eb4ba24",
   "metadata": {},
   "outputs": [
    {
     "data": {
      "text/plain": [
       "(25, 25, 25)"
      ]
     },
     "execution_count": 27,
     "metadata": {},
     "output_type": "execute_result"
    }
   ],
   "source": [
    "len(concert_name), len(concert_location), len(concert_date)"
   ]
  },
  {
   "cell_type": "code",
   "execution_count": null,
   "id": "000c0be2",
   "metadata": {},
   "outputs": [],
   "source": [
    "\n",
    "container = driver.find_element(By.XPATH, '//*[@id=\"contents\"]/article[5]/section/div[2]/div[2]')\n",
    "a_tags = container.find_elements(By.TAG_NAME, \"a\")\n",
    "print(f\"총 {len(a_tags)}개의 링크가 발견되었습니다.\")\n",
    "\n",
    "# container\n",
    "# //*[@id=\"contents\"]/article[5]/section/div[2]/div[2]\n",
    "\n",
    "#  Format of first concert\n",
    "# //*[@id=\"contents\"]/article[5]/section/div[2]/div[2]/a[1]/ul/li[1] 이름\n",
    "# //*[@id=\"contents\"]/article[5]/section/div[2]/div[2]/a[1]/ul/li[2] 장소In\n",
    "# //*[@id=\"contents\"]/article[5]/section/div[2]/div[2]/a[1]/ul/li[3] 날짜\n",
    "\n",
    "#  format of second concert\n",
    "# //*[@id=\"contents\"]/article[5]/section/div[2]/div[2]/a[2]/ul/li[1]\n"
   ]
  }
 ],
 "metadata": {
  "kernelspec": {
   "display_name": "Python 3",
   "language": "python",
   "name": "python3"
  },
  "language_info": {
   "codemirror_mode": {
    "name": "ipython",
    "version": 3
   },
   "file_extension": ".py",
   "mimetype": "text/x-python",
   "name": "python",
   "nbconvert_exporter": "python",
   "pygments_lexer": "ipython3",
   "version": "3.13.3"
  }
 },
 "nbformat": 4,
 "nbformat_minor": 5
}
