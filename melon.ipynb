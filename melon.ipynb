{
 "cells": [
  {
   "cell_type": "code",
   "execution_count": 24,
   "id": "fe0bf826-d4e2-411e-b198-7bc30e9f277f",
   "metadata": {},
   "outputs": [],
   "source": [
    "# 스크래핑에 필요한 라이브러리를 불러와봅시다.\n",
    "\n",
    "from selenium import webdriver\n",
    "from selenium.webdriver import ActionChains\n",
    "from selenium.webdriver.chrome.service import Service\n",
    "from selenium.webdriver.common.by import By\n",
    "from webdriver_manager.chrome import ChromeDriverManager\n",
    "from selenium.webdriver.support.ui import WebDriverWait\n",
    "from selenium.webdriver.support import expected_conditions as EC"
   ]
  },
  {
   "cell_type": "code",
   "execution_count": 25,
   "id": "e36d356c-8d97-4d86-a92d-39fbe708a98e",
   "metadata": {},
   "outputs": [],
   "source": [
    "from selenium.common.exceptions import NoSuchElementException\n",
    "driver = webdriver.Chrome(service=Service(\"C:/DataEngineering/chromedriver/chromedriver-win64/chromedriver.exe\"))\n",
    "driver.get(\"https://ticket.melon.com/\")\n",
    "#driver.implicitly_wait(5)\n"
   ]
  },
  {
   "cell_type": "code",
   "execution_count": 26,
   "id": "a9016862-d25e-4812-a048-f81ad4f11909",
   "metadata": {},
   "outputs": [],
   "source": [
    "wait = WebDriverWait(driver, 10)  # 최대 10초까지 기다림\n",
    "\n",
    "try:\n",
    "    checkbox = wait.until(EC.element_to_be_clickable((By.ID, \"popup_chk\")))\n",
    "    #checkbox = driver.find_element(By.ID, \"popup_chk\")\n",
    "    ActionChains(driver).click(checkbox).perform()\n",
    "\n",
    "    closed = wait.until(EC.element_to_be_clickable((By.ID, \"btn_layerpopup_close\")))\n",
    "    #closed = driver.find_element(By.ID, \"btn_layerpopup_close\")\n",
    "    ActionChains(driver).click(closed).perform()\n",
    "    \n",
    "except NoSuchElementException:\n",
    "    print(\"체크박스 또는 닫기 버튼이 없음 - 팝업 건너뜀\")\n",
    "\n",
    "\n",
    "# 이건 무조건 실행\n",
    "#concert_banner = driver.find_element(By.CLASS_NAME, \"btn_gnb_menu.btn_gnb.btn_g_menu02\")\n",
    "#ActionChains(driver).click(concert_banner).perform()\n",
    "\n",
    "try:\n",
    "    concert_banner = wait.until(EC.element_to_be_clickable((By.CLASS_NAME, \"btn_gnb_menu.btn_gnb.btn_g_menu02\")))\n",
    "    ActionChains(driver).click(concert_banner).perform()\n",
    "except TimeoutException:\n",
    "    print(\"콘서트 배너를 찾지 못했습니다.\")"
   ]
  },
  {
   "cell_type": "code",
   "execution_count": 19,
   "id": "b8797b6d-8377-47b6-ab30-789d8f6e13b6",
   "metadata": {},
   "outputs": [],
   "source": [
    "#print(driver.page_source)"
   ]
  },
  {
   "cell_type": "code",
   "execution_count": 31,
   "id": "06aa030e-64e0-47fd-9809-0c90df659d07",
   "metadata": {},
   "outputs": [
    {
     "name": "stdout",
     "output_type": "stream",
     "text": [
      "크롤링 완료된 전체 공연 목록:\n",
      "[{'site': '멜론티켓', 'title': '전주국제영화제 씨네투어X음악', 'start_date': '2025-05-02T00:00:00', 'end_date': '2025-05-06T00:00:00', 'location': '전주시네마타운'}, {'site': '멜론티켓', 'title': '제17회 서울재즈페스티벌 2025', 'start_date': '2025-05-30T00:00:00', 'end_date': '2025-06-01T00:00:00', 'location': '올림픽공원'}, {'site': '멜론티켓', 'title': 'AoB Presents #1 : Grateful Sound', 'start_date': '2025-05-13T00:00:00', 'end_date': '2025-05-13T00:00:00', 'location': 'KT&G 상상마당 홍대 라이브홀'}, {'site': '멜론티켓', 'title': 'LUCY 일곱 번째 단독 콘서트 〈와장창〉', 'start_date': '2025-05-02T00:00:00', 'end_date': '2025-05-04T00:00:00', 'location': '고려대학교 화정체육관'}, {'site': '멜론티켓', 'title': 'KARDI 단독콘서트 ‘각별’ : 롤링 30주년 기념 공연', 'start_date': '2025-05-17T00:00:00', 'end_date': '2025-05-17T00:00:00', 'location': '롤링홀'}, {'site': '멜론티켓', 'title': '윤종신 전국투어 콘서트 ‘그때’ - 서울', 'start_date': '2025-06-07T00:00:00', 'end_date': '2025-06-08T00:00:00', 'location': '우리금융아트홀'}, {'site': '멜론티켓', 'title': 'JEONJINHEE PIANO 雨後', 'start_date': '2025-05-10T00:00:00', 'end_date': '2025-05-11T00:00:00', 'location': '서울대학교 제1파워플랜트'}, {'site': '멜론티켓', 'title': '오이스터 단독콘서트 ‘What If We Missed’ : 롤링 30주년 기념 공연', 'start_date': '2025-05-10T00:00:00', 'end_date': '2025-05-11T00:00:00', 'location': '롤링홀'}, {'site': '멜론티켓', 'title': 'PEAK FESTIVAL 2025', 'start_date': '2025-05-24T00:00:00', 'end_date': '2025-05-25T00:00:00', 'location': '서울 난지한강공원'}, {'site': '멜론티켓', 'title': '2025 NCT DREAM FANMEETING 〈DREAM QUEST〉', 'start_date': '2025-05-24T00:00:00', 'end_date': '2025-05-25T00:00:00', 'location': '인스파이어 아레나'}, {'site': '멜론티켓', 'title': '2025 대구힙합페스티벌', 'start_date': '2025-06-28T00:00:00', 'end_date': '2025-06-29T00:00:00', 'location': '대구 엑스코(EXCO) 동관 전시 4홀'}, {'site': '멜론티켓', 'title': '워터밤 서울 2025 (WATERBOMB SEOUL 2025)', 'start_date': '2025-07-04T00:00:00', 'end_date': '2025-07-06T00:00:00', 'location': '추후공지'}, {'site': '멜론티켓', 'title': '윤종신 전국투어 콘서트 ‘그때’ - 부산', 'start_date': '2025-06-01T00:00:00', 'end_date': '2025-06-01T00:00:00', 'location': '드림씨어터'}, {'site': '멜론티켓', 'title': '제72회 라이브 클럽 데이－일반 티켓', 'start_date': '2025-04-25T00:00:00', 'end_date': '2025-04-25T00:00:00', 'location': 'LIVE CLUB DAY'}, {'site': '멜론티켓', 'title': '슈퍼팝 2025 코리아', 'start_date': '2025-05-17T00:00:00', 'end_date': '2025-05-18T00:00:00', 'location': '일산 킨텍스(KINTEX) 제 1전시장 1홀, 2홀'}, {'site': '멜론티켓', 'title': '아디오스오디오 단독콘서트 ‘별들 사이로’ : 롤링 30주년 기념 공연', 'start_date': '2025-05-18T00:00:00', 'end_date': '2025-05-18T00:00:00', 'location': '롤링홀'}, {'site': '멜론티켓', 'title': '로맨틱펀치 단독공연 110번째 로맨틱파티', 'start_date': '2025-05-03T00:00:00', 'end_date': '2025-05-03T00:00:00', 'location': '웨스트브릿지'}, {'site': '멜론티켓', 'title': 'DMZ 피스트레인 뮤직 페스티벌 2025', 'start_date': '2025-06-13T00:00:00', 'end_date': '2025-06-15T00:00:00', 'location': '강원도 철원군 고석정 일대'}, {'site': '멜론티켓', 'title': '2025 빈센트블루 단독 콘서트 ‘Blue Wood’', 'start_date': '2025-05-10T00:00:00', 'end_date': '2025-05-11T00:00:00', 'location': '현대카드 UNDERSTAGE, 언더스테이지'}, {'site': '멜론티켓', 'title': '먼데이프로젝트 시즌8 [찬민 단독 콘서트 ‘여명’]', 'start_date': '2025-05-07T00:00:00', 'end_date': '2025-05-07T00:00:00', 'location': 'CJ아지트 광흥창'}, {'site': '멜론티켓', 'title': '윤종신 전국투어 콘서트 ‘그때’ - 고양', 'start_date': '2025-05-03T00:00:00', 'end_date': '2025-05-03T00:00:00', 'location': '고양 아람누리 아람극장'}, {'site': '멜론티켓', 'title': 'MEANING OF GLOW', 'start_date': '2025-05-03T00:00:00', 'end_date': '2025-05-03T00:00:00', 'location': '벨로주 홍대'}, {'site': '멜론티켓', 'title': 'DRINK DANCE AND LOVE ALL : 맥거핀 X 화노', 'start_date': '2025-05-09T00:00:00', 'end_date': '2025-05-09T00:00:00', 'location': '프리즘홀'}, {'site': '멜론티켓', 'title': 'zunhozoon (2016-2018) 추가공연', 'start_date': '2025-05-23T00:00:00', 'end_date': '2025-05-24T00:00:00', 'location': '구름아래소극장'}, {'site': '멜론티켓', 'title': 'O.O.O 단독콘서트 ‘Ó- RAÑGE’ : 롤링 30주년 기념 공연', 'start_date': '2025-05-09T00:00:00', 'end_date': '2025-05-09T00:00:00', 'location': '롤링홀'}, {'site': '멜론티켓', 'title': '서자영 [Naro] 3번째 EP 발매기념 단독 콘서트', 'start_date': '2025-05-10T00:00:00', 'end_date': '2025-05-10T00:00:00', 'location': '벨로주 홍대'}, {'site': '멜론티켓', 'title': '[ CULTURE STAGE ] #1 서사무엘 - 문화정원아트홀 10주년 기념 공연 시리즈', 'start_date': '2025-05-17T00:00:00', 'end_date': '2025-05-17T00:00:00', 'location': '문화정원아트홀'}, {'site': '멜론티켓', 'title': '유스웨더나잇', 'start_date': '2025-05-03T00:00:00', 'end_date': '2025-05-04T00:00:00', 'location': '문화비축기지'}, {'site': '멜론티켓', 'title': '2025 Jay Park World Tour [Serenades & Body Rolls]', 'start_date': '2025-05-24T00:00:00', 'end_date': '2025-05-25T00:00:00', 'location': '올림픽공원 핸드볼경기장'}, {'site': '멜론티켓', 'title': '2025 윤종신 전국투어 콘서트 ‘그때’ - 대전', 'start_date': '2025-05-17T00:00:00', 'end_date': '2025-05-17T00:00:00', 'location': '우송예술회관'}, {'site': '멜론티켓', 'title': '이지영 (빅마마) 단독콘서트 ‘봄날의 여유’ : 롤링 30주년 기념 공연', 'start_date': '2025-04-26T00:00:00', 'end_date': '2025-04-26T00:00:00', 'location': '롤링홀'}, {'site': '멜론티켓', 'title': '루이스 오프만 내한 공연 (lewis ofman live in seoul)', 'start_date': '2025-05-09T00:00:00', 'end_date': '2025-05-09T00:00:00', 'location': '현대카드 UNDERSTAGE, 언더스테이지'}, {'site': '멜론티켓', 'title': '먼데이프로젝트 시즌8 불고기 디스코 단독 콘서트 ‘GOOD TIME’', 'start_date': '2025-04-30T00:00:00', 'end_date': '2025-04-30T00:00:00', 'location': '클럽온에어'}, {'site': '멜론티켓', 'title': 'Find own rhythm : 잭킹콩x암호', 'start_date': '2025-05-06T00:00:00', 'end_date': '2025-05-06T00:00:00', 'location': 'KT&G 상상마당 홍대 라이브홀'}, {'site': '멜론티켓', 'title': '2025 타임캡슐 슈퍼콘서트 in 인천', 'start_date': '2025-06-14T00:00:00', 'end_date': '2025-06-14T00:00:00', 'location': '송도 달빛축제공원'}, {'site': '멜론티켓', 'title': 'TONE STUDIO LIVE 〈박기훈 섹스텟(PARK KIHUN sextet〉 : JOY SPRING', 'start_date': '2025-04-25T00:00:00', 'end_date': '2025-04-25T00:00:00', 'location': '톤 스튜디오'}, {'site': '멜론티켓', 'title': '2025 한대음 페스티벌', 'start_date': '2025-05-02T00:00:00', 'end_date': '2025-05-03T00:00:00', 'location': '현대카드 언더스테이지, 뮤직 라이브러리, 바이닐 앤 플라스틱'}, {'site': '멜론티켓', 'title': '스킵잭 전국투어 ‘DRUG STORE’ in 서울', 'start_date': '2025-05-10T00:00:00', 'end_date': '2025-05-10T00:00:00', 'location': '빅팀'}, {'site': '멜론티켓', 'title': '바닐라유니티 단독콘서트 ‘NOT AGAIN‘ : 롤링 30주년 기념 공연', 'start_date': '2025-04-25T00:00:00', 'end_date': '2025-04-25T00:00:00', 'location': '롤링홀'}, {'site': '멜론티켓', 'title': 'Get Together - 희망씨 나눔콘서트', 'start_date': '2025-04-27T00:00:00', 'end_date': '2025-04-27T00:00:00', 'location': '벨로주 홍대'}, {'site': '멜론티켓', 'title': '윤종신 전국투어 콘서트 ‘그때’ - 광주', 'start_date': '2025-04-27T00:00:00', 'end_date': '2025-04-27T00:00:00', 'location': '광주 예술의전당 대극장'}, {'site': '멜론티켓', 'title': 'OGS 단독콘서트 ‘Future Past’ : 롤링 30주년 기념 공연', 'start_date': '2025-05-04T00:00:00', 'end_date': '2025-05-04T00:00:00', 'location': '롤링홀'}, {'site': '멜론티켓', 'title': '가리온 콘서트 ‘뿌리깊은 나무’ : 롤링 30주년 기념 공연', 'start_date': '2025-04-27T00:00:00', 'end_date': '2025-04-27T00:00:00', 'location': '롤링홀'}, {'site': '멜론티켓', 'title': '현대카드 Curated 98 ATARAYO', 'start_date': '2025-05-25T00:00:00', 'end_date': '2025-05-25T00:00:00', 'location': '현대카드 UNDERSTAGE, 언더스테이지'}, {'site': '멜론티켓', 'title': 'ASH AHN(안성현) 단독 콘서트 〈TO MY JOYFUL WORLD〉', 'start_date': '2025-04-26T00:00:00', 'end_date': '2025-04-26T00:00:00', 'location': 'CJ아지트 광흥창'}, {'site': '멜론티켓', 'title': '먼데이프로젝트 시즌8 Our Universe [ddbb 단독 콘서트]', 'start_date': '2025-04-28T00:00:00', 'end_date': '2025-04-28T00:00:00', 'location': '클럽온에어'}, {'site': '멜론티켓', 'title': '최정윤 단독콘서트 ‘Every Moment’ : 롤링 30주년 기념 공연', 'start_date': '2025-05-05T00:00:00', 'end_date': '2025-05-05T00:00:00', 'location': '롤링홀'}, {'site': '멜론티켓', 'title': '먼데이프로젝트 시즌8 Our Universe [손을모아 단독 콘서트]', 'start_date': '2025-05-01T00:00:00', 'end_date': '2025-05-01T00:00:00', 'location': '벨로주 홍대'}, {'site': '멜론티켓', 'title': '먼데이프로젝트 시즌8 Try Again [안다영 단독 콘서트]', 'start_date': '2025-04-21T00:00:00', 'end_date': '2025-04-21T00:00:00', 'location': 'KT&G 상상마당 홍대 라이브홀'}, {'site': '멜론티켓', 'title': 'TONE STUDIO LIVE 〈위수(WISUE)〉', 'start_date': '2025-05-03T00:00:00', 'end_date': '2025-05-03T00:00:00', 'location': '톤 스튜디오'}, {'site': '멜론티켓', 'title': '2025 Bye Bye Badman 단독 공연 ‘Bad Timing’', 'start_date': '2025-05-10T00:00:00', 'end_date': '2025-05-11T00:00:00', 'location': 'KT&G 상상마당 홍대 라이브홀'}, {'site': '멜론티켓', 'title': '디폴트 단독공연: Sirius Pre-release Show', 'start_date': '2025-04-26T00:00:00', 'end_date': '2025-04-26T00:00:00', 'location': '홈즈레드 라운지'}, {'site': '멜론티켓', 'title': '먼데이프로젝트 시즌8 [급한노새 싱글 발매 기념 단독 콘서트 ‘럭키’]', 'start_date': '2025-05-01T00:00:00', 'end_date': '2025-05-01T00:00:00', 'location': '언플러그드 홍대'}, {'site': '멜론티켓', 'title': '먼데이프로젝트 시즌8 [안녕하신가영 단독 콘서트 “월요일에도 봄이 떠오르면 좋겠어요”]', 'start_date': '2025-04-21T00:00:00', 'end_date': '2025-04-21T00:00:00', 'location': '구름아래소극장'}, {'site': '멜론티켓', 'title': '기프트 단독콘서트 ‘초심’ : 롤링 30주년 기념 공연', 'start_date': '2025-05-02T00:00:00', 'end_date': '2025-05-02T00:00:00', 'location': '롤링홀'}, {'site': '멜론티켓', 'title': 'cacophony After April’s Party: 가장 사적 in Seoul', 'start_date': '2025-05-03T00:00:00', 'end_date': '2025-05-03T00:00:00', 'location': '공상온도'}, {'site': '멜론티켓', 'title': '5월 봄, 예영을 듣다', 'start_date': '2025-05-04T00:00:00', 'end_date': '2025-05-04T00:00:00', 'location': '벨지움 재즈카페'}, {'site': '멜론티켓', 'title': 'The Show Seoul - Part 12. Jazz [디너콘서트]', 'start_date': '2025-05-05T00:00:00', 'end_date': '2025-05-05T00:00:00', 'location': '벨지움 재즈카페'}, {'site': '멜론티켓', 'title': '스킵잭 전국투어 ‘DRUG STORE’ in 부산', 'start_date': '2025-05-03T00:00:00', 'end_date': '2025-05-03T00:00:00', 'location': '리얼라이즈'}, {'site': '멜론티켓', 'title': '스킵잭 전국투어 ‘DRUG STORE’ in 광주', 'start_date': '2025-05-04T00:00:00', 'end_date': '2025-05-04T00:00:00', 'location': '보헤미안'}, {'site': '멜론티켓', 'title': 'Hi-Fi Un!corn 1st ASIA Tour “Beat it Beat it” IN SEOUL', 'start_date': '2025-05-23T00:00:00', 'end_date': '2025-05-23T00:00:00', 'location': 'KT&G 상상마당 홍대 라이브홀'}, {'site': '멜론티켓', 'title': '제72회 라이브 클럽 데이－블라인드 티켓', 'start_date': '2025-04-25T00:00:00', 'end_date': '2025-04-25T00:00:00', 'location': 'LIVE CLUB DAY'}, {'site': '멜론티켓', 'title': '2025 ZUHO CONCERT 주주총회: DOMINION', 'start_date': '2025-04-26T00:00:00', 'end_date': '2025-04-26T00:00:00', 'location': '일지아트홀'}, {'site': '멜론티켓', 'title': '2025 보라미유 단독콘서트 ‘있잖아’', 'start_date': '2025-04-26T00:00:00', 'end_date': '2025-04-26T00:00:00', 'location': 'KT&G 상상마당 홍대 라이브홀'}, {'site': '멜론티켓', 'title': 'KIM GYEOL 3rd Solo Concert “ANOTHER I”', 'start_date': '2025-04-26T00:00:00', 'end_date': '2025-04-27T00:00:00', 'location': '구름아래소극장'}, {'site': '멜론티켓', 'title': 'NAZCA RECORDS CONCERT [나즈카 레코드 콘서트]', 'start_date': '2025-04-26T00:00:00', 'end_date': '2025-04-26T00:00:00', 'location': '벨로주 홍대'}, {'site': '멜론티켓', 'title': 'Sora Kim 2nd Album Release Concert', 'start_date': '2025-04-26T00:00:00', 'end_date': '2025-04-26T00:00:00', 'location': '톤 스튜디오'}, {'site': '멜론티켓', 'title': '우예린 단독 콘서트 ‘명화 ; 名花’ : 롤링 30주년 기념 공연', 'start_date': '2025-05-01T00:00:00', 'end_date': '2025-05-01T00:00:00', 'location': '롤링홀'}, {'site': '멜론티켓', 'title': '2025 10CM ‘Centiner MEMBERSHIP’ 이벤트 〈올해는 내려나 봄〉', 'start_date': '2025-05-03T00:00:00', 'end_date': '2025-05-03T00:00:00', 'location': 'KT&G 상상마당 춘천 야외공연장'}, {'site': '멜론티켓', 'title': '앵콜! 브로콜리너마저 클럽투어 - 광주', 'start_date': '2025-05-03T00:00:00', 'end_date': '2025-05-03T00:00:00', 'location': '보헤미안'}, {'site': '멜론티켓', 'title': '김마리 생일콘서트 ‘해피마리데이’ : 롤링 30주년 기념 공연', 'start_date': '2025-05-06T00:00:00', 'end_date': '2025-05-06T00:00:00', 'location': '롤링홀'}, {'site': '멜론티켓', 'title': '먼데이프로젝트 시즌8 THE ORIGINAL [서울전자음악단 단독 콘서트]', 'start_date': '2025-05-12T00:00:00', 'end_date': '2025-05-12T00:00:00', 'location': '클럽온에어'}, {'site': '멜론티켓', 'title': '먼데이프로젝트 IN 라이브클럽 [Erotic Worms Exhibition 단독콘서트]', 'start_date': '2025-05-15T00:00:00', 'end_date': '2025-05-15T00:00:00', 'location': '공상온도'}, {'site': '멜론티켓', 'title': '2025 KAI SOLO CONCERT TOUR 〈KAION〉 IN SEOUL', 'start_date': '2025-05-17T00:00:00', 'end_date': '2025-05-18T00:00:00', 'location': '올림픽공원 핸드볼경기장'}, {'site': '멜론티켓', 'title': 'Leaveourtears ASIA TOUR in SEOUL', 'start_date': '2025-05-17T00:00:00', 'end_date': '2025-05-17T00:00:00', 'location': '벨로주 홍대'}, {'site': '멜론티켓', 'title': 'TONE STUDIO LIVE 〈소울 딜리버리(Soul delivery)〉', 'start_date': '2025-05-17T00:00:00', 'end_date': '2025-05-17T00:00:00', 'location': '톤 스튜디오'}, {'site': '멜론티켓', 'title': '극동아시아타이거즈 전국투어〈호랑이 소리를 찾아서〉- 서울', 'start_date': '2025-05-17T00:00:00', 'end_date': '2025-05-17T00:00:00', 'location': 'KT&G 상상마당 홍대 라이브홀'}, {'site': '멜론티켓', 'title': '강지원 단독 공연 ‘Interseason’', 'start_date': '2025-05-18T00:00:00', 'end_date': '2025-05-18T00:00:00', 'location': '구름아래소극장'}, {'site': '멜론티켓', 'title': '2025 SONG SOHEE CONCERT : 롤링 30주년 기념 공연', 'start_date': '2025-05-23T00:00:00', 'end_date': '2025-05-23T00:00:00', 'location': '롤링홀'}, {'site': '멜론티켓', 'title': 'SHINee WORLD Ⅶ [E.S.S.A.Y] (Every Stage Shines Around You)', 'start_date': '2025-05-23T00:00:00', 'end_date': '2025-05-25T00:00:00', 'location': 'KSPO DOME (올림픽 체조경기장)'}, {'site': '멜론티켓', 'title': '신해경 단독 공연 ‘꽃이 피는 계절’ : 부산', 'start_date': '2025-05-24T00:00:00', 'end_date': '2025-05-24T00:00:00', 'location': 'KT&G 상상마당 부산 라이브홀'}, {'site': '멜론티켓', 'title': '키위 EP “Vertigo” 발매기념 단독공연 : Where are we headed now?', 'start_date': '2025-05-24T00:00:00', 'end_date': '2025-05-24T00:00:00', 'location': '벨로주 홍대'}, {'site': '멜론티켓', 'title': '마인드유 단독콘서트 ‘다시, 봄’ : 롤링 30주년 기념 공연', 'start_date': '2025-05-25T00:00:00', 'end_date': '2025-05-25T00:00:00', 'location': '롤링홀'}, {'site': '멜론티켓', 'title': 'dsel 단독콘서트 ‘운칠기삼’ : 롤링 30주년 기념 공연', 'start_date': '2025-05-30T00:00:00', 'end_date': '2025-05-30T00:00:00', 'location': '롤링홀'}, {'site': '멜론티켓', 'title': '제17회 서울재즈페스티벌 2025 블라인드', 'start_date': '2025-05-30T00:00:00', 'end_date': '2025-06-01T00:00:00', 'location': '올림픽공원'}, {'site': '멜론티켓', 'title': 'Leaveourtears ASIA TOUR in BUSAN', 'start_date': '2025-05-31T00:00:00', 'end_date': '2025-05-31T00:00:00', 'location': '부산 오방가르드'}, {'site': '멜론티켓', 'title': '극동아시아타이거즈 전국투어〈호랑이 소리를 찾아서〉- 부산', 'start_date': '2025-06-06T00:00:00', 'end_date': '2025-06-06T00:00:00', 'location': 'KT&G 상상마당 부산 라이브홀'}, {'site': '멜론티켓', 'title': '2025 DOYOUNG CONCERT [ Doors ]', 'start_date': '2025-06-14T00:00:00', 'end_date': '2025-06-15T00:00:00', 'location': '잠실실내체육관'}, {'site': '멜론티켓', 'title': '2025 IRENE & SEULGI Concert Tour [ BALANCE ] in SEOUL', 'start_date': '2025-06-14T00:00:00', 'end_date': '2025-06-15T00:00:00', 'location': '올림픽공원 올림픽홀'}, {'site': '멜론티켓', 'title': 'Shinsei Kamattechan Live in Seoul', 'start_date': '2025-06-18T00:00:00', 'end_date': '2025-06-18T00:00:00', 'location': '노들섬 라이브하우스'}, {'site': '멜론티켓', 'title': '극동아시아타이거즈 전국투어〈호랑이 소리를 찾아서〉- 춘천', 'start_date': '2025-06-28T00:00:00', 'end_date': '2025-06-28T00:00:00', 'location': 'KT&G 상상마당 춘천 사운드홀'}, {'site': '멜론티켓', 'title': '루시드폴, 정마리, 부지현 on Sync Next 25', 'start_date': '2025-07-04T00:00:00', 'end_date': '2025-07-06T00:00:00', 'location': '세종문화회관 S씨어터'}, {'site': '멜론티켓', 'title': '제이통 on Sync Next 25', 'start_date': '2025-08-08T00:00:00', 'end_date': '2025-08-09T00:00:00', 'location': '세종문화회관 S씨어터'}, {'site': '멜론티켓', 'title': '문상훈과 빠더너스 on Sync Next 25', 'start_date': '2025-08-22T00:00:00', 'end_date': '2025-08-24T00:00:00', 'location': '세종문화회관 S씨어터'}, {'site': '멜론티켓', 'title': '벌트vurt., 업체eobchae on Sync Next 25', 'start_date': '2025-09-05T00:00:00', 'end_date': '2025-09-06T00:00:00', 'location': '세종문화회관 S씨어터'}, {'site': '멜론티켓', 'title': '사운드 플래닛 페스티벌 2025 - 얼리버드 티켓', 'start_date': '2025-09-13T00:00:00', 'end_date': '2025-09-14T00:00:00', 'location': '인천 파라다이스시티'}]\n",
      "96\n"
     ]
    }
   ],
   "source": [
    "from datetime import datetime\n",
    "import traceback\n",
    "import requests\n",
    "driver.implicitly_wait(100)\n",
    "li_elements = driver.find_elements(By.CSS_SELECTOR, \"#perf_poster > li\")\n",
    "concerts=[]\n",
    "\n",
    "for index, li in enumerate(li_elements):\n",
    "    try:\n",
    "        concert = {}\n",
    "\n",
    "        # a 태그 및 href 추출\n",
    "        try:\n",
    "            a_tag = li.find_element(By.TAG_NAME, \"a\")\n",
    "            href = a_tag.get_attribute(\"href\")\n",
    "            # 콘텐츠가 비어있으면 href값 자체가 # 이었음 \n",
    "            # \"#\" in href 로 조건문 걸어버리면 먼가 자꾸 반복문이 중단되어서(아마도 개발자가 링크뒤에 주석을 넣었거나 그랬을수있음#) href.strip()== \"#\"으로 비교\n",
    "            if  href.strip() == \"#\":\n",
    "                print(f\"{index + 1}번째 공연에서 href='#' 발견됨. 크롤링 중단.\")\n",
    "                break\n",
    "        except Exception as e:\n",
    "            print(f\"{index + 1}번째 공연: <a> 태그 추출 실패 - {e}\")\n",
    "            continue\n",
    "\n",
    "        # title 추출\n",
    "        try:\n",
    "            #멜론에서 한거라\n",
    "            concert[\"site\"]=\"멜론티켓\"\n",
    "            title = li.find_element(By.CSS_SELECTOR, 'strong.tit').text.strip()\n",
    "            concert[\"title\"] = title\n",
    "            #print(title)\n",
    "        except Exception as e:\n",
    "            print(f\"{index + 1}번째 공연: 제목 추출 실패 - {e}\")\n",
    "            concert[\"title\"] = \"정보 없음\"\n",
    "            continue\n",
    "\n",
    "        # 날짜 추출 및 변환\n",
    "        try:\n",
    "            day_text = li.find_element(By.CSS_SELECTOR, 'span.day').text.strip()\n",
    "            if '-' in day_text:\n",
    "                start_date, end_date = [d.strip() for d in day_text.split('-')]\n",
    "            else:\n",
    "                start_date = end_date = day_text\n",
    "\n",
    "            concert[\"start_date\"] = datetime.strptime(start_date, \"%Y.%m.%d\").isoformat()\n",
    "            concert[\"end_date\"] = datetime.strptime(end_date, \"%Y.%m.%d\").isoformat()\n",
    "        except Exception as e:\n",
    "            print(f\"{index + 1}번째 공연: 날짜 추출 또는 변환 실패 - {e}\")\n",
    "            concert[\"start_date\"] = concert[\"end_date\"] = None\n",
    "            continue\n",
    "\n",
    "        # 장소 추출\n",
    "        try:\n",
    "            location = li.find_element(By.CSS_SELECTOR, 'span.location').text.strip()\n",
    "            concert[\"location\"] = location\n",
    "            \n",
    "\n",
    "        except Exception as e:\n",
    "            print(f\"{index + 1}번째 공연: 장소 추출 실패 - {e}\")\n",
    "            concert[\"location\"] = \"정보 없음\"\n",
    "            continue\n",
    "\n",
    "        concerts.append(concert)\n",
    "        #print(f\"{index + 1}번째 공연 크롤링 완료: {concert}\")\n",
    "        #break\n",
    "\n",
    "    except Exception as e:\n",
    "        print(f\"{index + 1}번째 공연: 예기치 못한 오류 발생\")\n",
    "        traceback.print_exc()\n",
    "        #break\n",
    "        continue\n",
    "\n",
    "print(\"크롤링 완료된 전체 공연 목록:\")\n",
    "print(concerts)\n",
    "print(len(concerts))\n",
    "# driver.quit()\n",
    "\n"
   ]
  },
  {
   "cell_type": "code",
   "execution_count": null,
   "id": "4faea745-28fa-4170-8ca1-5a123fc3b78b",
   "metadata": {},
   "outputs": [
    {
     "data": {
      "text/plain": [
       "<Response [201]>"
      ]
     },
     "execution_count": 7,
     "metadata": {},
     "output_type": "execute_result"
    }
   ],
   "source": [
    "#test 해본거\n",
    "from datetime import datetime\n",
    "import traceback\n",
    "import requests\n",
    "s=datetime.now()\n",
    "e=datetime.now()\n",
    "concerts={'title':'전주국제영화제 씨네투어X음악', 'location':'전주시네마타운','start_date':s.isoformat(),'end_date':e.isoformat()}\n",
    "requests.post(\"http://127.0.0.1:8000/allincon_api/crawling/\", json=concerts)"
   ]
  },
  {
   "cell_type": "code",
   "execution_count": null,
   "id": "7c013b8e-97eb-4c13-9c7f-bbd793f1b71d",
   "metadata": {},
   "outputs": [
    {
     "name": "stdout",
     "output_type": "stream",
     "text": [
      "<Response [201]>\n"
     ]
    }
   ],
   "source": [
    "#서버로 정보 전송\n",
    "import requests \n",
    "#print(concerts)\n",
    "response = requests.post(\"http://127.0.0.1:8000/api/concerts/\", json=concerts)\n",
    "print(response)\n"
   ]
  },
  {
   "cell_type": "code",
   "execution_count": 35,
   "id": "6151f2e6-3365-4ec4-ba04-c7c75462da9e",
   "metadata": {},
   "outputs": [
    {
     "name": "stdout",
     "output_type": "stream",
     "text": [
      "[{'site': '멜론티켓', 'title': '전주국제영화제 씨네투어X음악', 'start_date': '2025-05-02T00:00:00', 'end_date': '2025-05-06T00:00:00', 'location': '전주시네마타운'}, {'site': '멜론티켓', 'title': '제17회 서울재즈페스티벌 2025', 'start_date': '2025-05-30T00:00:00', 'end_date': '2025-06-01T00:00:00', 'location': '올림픽공원'}, {'site': '멜론티켓', 'title': 'AoB Presents #1 : Grateful Sound', 'start_date': '2025-05-13T00:00:00', 'end_date': '2025-05-13T00:00:00', 'location': 'KT&G 상상마당 홍대 라이브홀'}, {'site': '멜론티켓', 'title': 'LUCY 일곱 번째 단독 콘서트 〈와장창〉', 'start_date': '2025-05-02T00:00:00', 'end_date': '2025-05-04T00:00:00', 'location': '고려대학교 화정체육관'}, {'site': '멜론티켓', 'title': 'KARDI 단독콘서트 ‘각별’ : 롤링 30주년 기념 공연', 'start_date': '2025-05-17T00:00:00', 'end_date': '2025-05-17T00:00:00', 'location': '롤링홀'}, {'site': '멜론티켓', 'title': '윤종신 전국투어 콘서트 ‘그때’ - 서울', 'start_date': '2025-06-07T00:00:00', 'end_date': '2025-06-08T00:00:00', 'location': '우리금융아트홀'}, {'site': '멜론티켓', 'title': 'JEONJINHEE PIANO 雨後', 'start_date': '2025-05-10T00:00:00', 'end_date': '2025-05-11T00:00:00', 'location': '서울대학교 제1파워플랜트'}, {'site': '멜론티켓', 'title': '오이스터 단독콘서트 ‘What If We Missed’ : 롤링 30주년 기념 공연', 'start_date': '2025-05-10T00:00:00', 'end_date': '2025-05-11T00:00:00', 'location': '롤링홀'}, {'site': '멜론티켓', 'title': 'PEAK FESTIVAL 2025', 'start_date': '2025-05-24T00:00:00', 'end_date': '2025-05-25T00:00:00', 'location': '서울 난지한강공원'}, {'site': '멜론티켓', 'title': '2025 NCT DREAM FANMEETING 〈DREAM QUEST〉', 'start_date': '2025-05-24T00:00:00', 'end_date': '2025-05-25T00:00:00', 'location': '인스파이어 아레나'}, {'site': '멜론티켓', 'title': '2025 대구힙합페스티벌', 'start_date': '2025-06-28T00:00:00', 'end_date': '2025-06-29T00:00:00', 'location': '대구 엑스코(EXCO) 동관 전시 4홀'}, {'site': '멜론티켓', 'title': '워터밤 서울 2025 (WATERBOMB SEOUL 2025)', 'start_date': '2025-07-04T00:00:00', 'end_date': '2025-07-06T00:00:00', 'location': '추후공지'}, {'site': '멜론티켓', 'title': '윤종신 전국투어 콘서트 ‘그때’ - 부산', 'start_date': '2025-06-01T00:00:00', 'end_date': '2025-06-01T00:00:00', 'location': '드림씨어터'}, {'site': '멜론티켓', 'title': '제72회 라이브 클럽 데이－일반 티켓', 'start_date': '2025-04-25T00:00:00', 'end_date': '2025-04-25T00:00:00', 'location': 'LIVE CLUB DAY'}, {'site': '멜론티켓', 'title': '슈퍼팝 2025 코리아', 'start_date': '2025-05-17T00:00:00', 'end_date': '2025-05-18T00:00:00', 'location': '일산 킨텍스(KINTEX) 제 1전시장 1홀, 2홀'}, {'site': '멜론티켓', 'title': '아디오스오디오 단독콘서트 ‘별들 사이로’ : 롤링 30주년 기념 공연', 'start_date': '2025-05-18T00:00:00', 'end_date': '2025-05-18T00:00:00', 'location': '롤링홀'}, {'site': '멜론티켓', 'title': '로맨틱펀치 단독공연 110번째 로맨틱파티', 'start_date': '2025-05-03T00:00:00', 'end_date': '2025-05-03T00:00:00', 'location': '웨스트브릿지'}, {'site': '멜론티켓', 'title': 'DMZ 피스트레인 뮤직 페스티벌 2025', 'start_date': '2025-06-13T00:00:00', 'end_date': '2025-06-15T00:00:00', 'location': '강원도 철원군 고석정 일대'}, {'site': '멜론티켓', 'title': '2025 빈센트블루 단독 콘서트 ‘Blue Wood’', 'start_date': '2025-05-10T00:00:00', 'end_date': '2025-05-11T00:00:00', 'location': '현대카드 UNDERSTAGE, 언더스테이지'}, {'site': '멜론티켓', 'title': '먼데이프로젝트 시즌8 [찬민 단독 콘서트 ‘여명’]', 'start_date': '2025-05-07T00:00:00', 'end_date': '2025-05-07T00:00:00', 'location': 'CJ아지트 광흥창'}, {'site': '멜론티켓', 'title': '윤종신 전국투어 콘서트 ‘그때’ - 고양', 'start_date': '2025-05-03T00:00:00', 'end_date': '2025-05-03T00:00:00', 'location': '고양 아람누리 아람극장'}, {'site': '멜론티켓', 'title': 'MEANING OF GLOW', 'start_date': '2025-05-03T00:00:00', 'end_date': '2025-05-03T00:00:00', 'location': '벨로주 홍대'}, {'site': '멜론티켓', 'title': 'DRINK DANCE AND LOVE ALL : 맥거핀 X 화노', 'start_date': '2025-05-09T00:00:00', 'end_date': '2025-05-09T00:00:00', 'location': '프리즘홀'}, {'site': '멜론티켓', 'title': 'zunhozoon (2016-2018) 추가공연', 'start_date': '2025-05-23T00:00:00', 'end_date': '2025-05-24T00:00:00', 'location': '구름아래소극장'}, {'site': '멜론티켓', 'title': 'O.O.O 단독콘서트 ‘Ó- RAÑGE’ : 롤링 30주년 기념 공연', 'start_date': '2025-05-09T00:00:00', 'end_date': '2025-05-09T00:00:00', 'location': '롤링홀'}, {'site': '멜론티켓', 'title': '서자영 [Naro] 3번째 EP 발매기념 단독 콘서트', 'start_date': '2025-05-10T00:00:00', 'end_date': '2025-05-10T00:00:00', 'location': '벨로주 홍대'}, {'site': '멜론티켓', 'title': '[ CULTURE STAGE ] #1 서사무엘 - 문화정원아트홀 10주년 기념 공연 시리즈', 'start_date': '2025-05-17T00:00:00', 'end_date': '2025-05-17T00:00:00', 'location': '문화정원아트홀'}, {'site': '멜론티켓', 'title': '유스웨더나잇', 'start_date': '2025-05-03T00:00:00', 'end_date': '2025-05-04T00:00:00', 'location': '문화비축기지'}, {'site': '멜론티켓', 'title': '2025 Jay Park World Tour [Serenades & Body Rolls]', 'start_date': '2025-05-24T00:00:00', 'end_date': '2025-05-25T00:00:00', 'location': '올림픽공원 핸드볼경기장'}, {'site': '멜론티켓', 'title': '2025 윤종신 전국투어 콘서트 ‘그때’ - 대전', 'start_date': '2025-05-17T00:00:00', 'end_date': '2025-05-17T00:00:00', 'location': '우송예술회관'}, {'site': '멜론티켓', 'title': '이지영 (빅마마) 단독콘서트 ‘봄날의 여유’ : 롤링 30주년 기념 공연', 'start_date': '2025-04-26T00:00:00', 'end_date': '2025-04-26T00:00:00', 'location': '롤링홀'}, {'site': '멜론티켓', 'title': '루이스 오프만 내한 공연 (lewis ofman live in seoul)', 'start_date': '2025-05-09T00:00:00', 'end_date': '2025-05-09T00:00:00', 'location': '현대카드 UNDERSTAGE, 언더스테이지'}, {'site': '멜론티켓', 'title': '먼데이프로젝트 시즌8 불고기 디스코 단독 콘서트 ‘GOOD TIME’', 'start_date': '2025-04-30T00:00:00', 'end_date': '2025-04-30T00:00:00', 'location': '클럽온에어'}, {'site': '멜론티켓', 'title': 'Find own rhythm : 잭킹콩x암호', 'start_date': '2025-05-06T00:00:00', 'end_date': '2025-05-06T00:00:00', 'location': 'KT&G 상상마당 홍대 라이브홀'}, {'site': '멜론티켓', 'title': '2025 타임캡슐 슈퍼콘서트 in 인천', 'start_date': '2025-06-14T00:00:00', 'end_date': '2025-06-14T00:00:00', 'location': '송도 달빛축제공원'}, {'site': '멜론티켓', 'title': 'TONE STUDIO LIVE 〈박기훈 섹스텟(PARK KIHUN sextet〉 : JOY SPRING', 'start_date': '2025-04-25T00:00:00', 'end_date': '2025-04-25T00:00:00', 'location': '톤 스튜디오'}, {'site': '멜론티켓', 'title': '2025 한대음 페스티벌', 'start_date': '2025-05-02T00:00:00', 'end_date': '2025-05-03T00:00:00', 'location': '현대카드 언더스테이지, 뮤직 라이브러리, 바이닐 앤 플라스틱'}, {'site': '멜론티켓', 'title': '스킵잭 전국투어 ‘DRUG STORE’ in 서울', 'start_date': '2025-05-10T00:00:00', 'end_date': '2025-05-10T00:00:00', 'location': '빅팀'}, {'site': '멜론티켓', 'title': '바닐라유니티 단독콘서트 ‘NOT AGAIN‘ : 롤링 30주년 기념 공연', 'start_date': '2025-04-25T00:00:00', 'end_date': '2025-04-25T00:00:00', 'location': '롤링홀'}, {'site': '멜론티켓', 'title': 'Get Together - 희망씨 나눔콘서트', 'start_date': '2025-04-27T00:00:00', 'end_date': '2025-04-27T00:00:00', 'location': '벨로주 홍대'}, {'site': '멜론티켓', 'title': '윤종신 전국투어 콘서트 ‘그때’ - 광주', 'start_date': '2025-04-27T00:00:00', 'end_date': '2025-04-27T00:00:00', 'location': '광주 예술의전당 대극장'}, {'site': '멜론티켓', 'title': 'OGS 단독콘서트 ‘Future Past’ : 롤링 30주년 기념 공연', 'start_date': '2025-05-04T00:00:00', 'end_date': '2025-05-04T00:00:00', 'location': '롤링홀'}, {'site': '멜론티켓', 'title': '가리온 콘서트 ‘뿌리깊은 나무’ : 롤링 30주년 기념 공연', 'start_date': '2025-04-27T00:00:00', 'end_date': '2025-04-27T00:00:00', 'location': '롤링홀'}, {'site': '멜론티켓', 'title': '현대카드 Curated 98 ATARAYO', 'start_date': '2025-05-25T00:00:00', 'end_date': '2025-05-25T00:00:00', 'location': '현대카드 UNDERSTAGE, 언더스테이지'}, {'site': '멜론티켓', 'title': 'ASH AHN(안성현) 단독 콘서트 〈TO MY JOYFUL WORLD〉', 'start_date': '2025-04-26T00:00:00', 'end_date': '2025-04-26T00:00:00', 'location': 'CJ아지트 광흥창'}, {'site': '멜론티켓', 'title': '먼데이프로젝트 시즌8 Our Universe [ddbb 단독 콘서트]', 'start_date': '2025-04-28T00:00:00', 'end_date': '2025-04-28T00:00:00', 'location': '클럽온에어'}, {'site': '멜론티켓', 'title': '최정윤 단독콘서트 ‘Every Moment’ : 롤링 30주년 기념 공연', 'start_date': '2025-05-05T00:00:00', 'end_date': '2025-05-05T00:00:00', 'location': '롤링홀'}, {'site': '멜론티켓', 'title': '먼데이프로젝트 시즌8 Our Universe [손을모아 단독 콘서트]', 'start_date': '2025-05-01T00:00:00', 'end_date': '2025-05-01T00:00:00', 'location': '벨로주 홍대'}, {'site': '멜론티켓', 'title': '먼데이프로젝트 시즌8 Try Again [안다영 단독 콘서트]', 'start_date': '2025-04-21T00:00:00', 'end_date': '2025-04-21T00:00:00', 'location': 'KT&G 상상마당 홍대 라이브홀'}, {'site': '멜론티켓', 'title': 'TONE STUDIO LIVE 〈위수(WISUE)〉', 'start_date': '2025-05-03T00:00:00', 'end_date': '2025-05-03T00:00:00', 'location': '톤 스튜디오'}, {'site': '멜론티켓', 'title': '2025 Bye Bye Badman 단독 공연 ‘Bad Timing’', 'start_date': '2025-05-10T00:00:00', 'end_date': '2025-05-11T00:00:00', 'location': 'KT&G 상상마당 홍대 라이브홀'}, {'site': '멜론티켓', 'title': '디폴트 단독공연: Sirius Pre-release Show', 'start_date': '2025-04-26T00:00:00', 'end_date': '2025-04-26T00:00:00', 'location': '홈즈레드 라운지'}, {'site': '멜론티켓', 'title': '먼데이프로젝트 시즌8 [급한노새 싱글 발매 기념 단독 콘서트 ‘럭키’]', 'start_date': '2025-05-01T00:00:00', 'end_date': '2025-05-01T00:00:00', 'location': '언플러그드 홍대'}, {'site': '멜론티켓', 'title': '먼데이프로젝트 시즌8 [안녕하신가영 단독 콘서트 “월요일에도 봄이 떠오르면 좋겠어요”]', 'start_date': '2025-04-21T00:00:00', 'end_date': '2025-04-21T00:00:00', 'location': '구름아래소극장'}, {'site': '멜론티켓', 'title': '기프트 단독콘서트 ‘초심’ : 롤링 30주년 기념 공연', 'start_date': '2025-05-02T00:00:00', 'end_date': '2025-05-02T00:00:00', 'location': '롤링홀'}, {'site': '멜론티켓', 'title': 'cacophony After April’s Party: 가장 사적 in Seoul', 'start_date': '2025-05-03T00:00:00', 'end_date': '2025-05-03T00:00:00', 'location': '공상온도'}, {'site': '멜론티켓', 'title': '5월 봄, 예영을 듣다', 'start_date': '2025-05-04T00:00:00', 'end_date': '2025-05-04T00:00:00', 'location': '벨지움 재즈카페'}, {'site': '멜론티켓', 'title': 'The Show Seoul - Part 12. Jazz [디너콘서트]', 'start_date': '2025-05-05T00:00:00', 'end_date': '2025-05-05T00:00:00', 'location': '벨지움 재즈카페'}, {'site': '멜론티켓', 'title': '스킵잭 전국투어 ‘DRUG STORE’ in 부산', 'start_date': '2025-05-03T00:00:00', 'end_date': '2025-05-03T00:00:00', 'location': '리얼라이즈'}, {'site': '멜론티켓', 'title': '스킵잭 전국투어 ‘DRUG STORE’ in 광주', 'start_date': '2025-05-04T00:00:00', 'end_date': '2025-05-04T00:00:00', 'location': '보헤미안'}, {'site': '멜론티켓', 'title': 'Hi-Fi Un!corn 1st ASIA Tour “Beat it Beat it” IN SEOUL', 'start_date': '2025-05-23T00:00:00', 'end_date': '2025-05-23T00:00:00', 'location': 'KT&G 상상마당 홍대 라이브홀'}, {'site': '멜론티켓', 'title': '제72회 라이브 클럽 데이－블라인드 티켓', 'start_date': '2025-04-25T00:00:00', 'end_date': '2025-04-25T00:00:00', 'location': 'LIVE CLUB DAY'}, {'site': '멜론티켓', 'title': '2025 ZUHO CONCERT 주주총회: DOMINION', 'start_date': '2025-04-26T00:00:00', 'end_date': '2025-04-26T00:00:00', 'location': '일지아트홀'}, {'site': '멜론티켓', 'title': '2025 보라미유 단독콘서트 ‘있잖아’', 'start_date': '2025-04-26T00:00:00', 'end_date': '2025-04-26T00:00:00', 'location': 'KT&G 상상마당 홍대 라이브홀'}, {'site': '멜론티켓', 'title': 'KIM GYEOL 3rd Solo Concert “ANOTHER I”', 'start_date': '2025-04-26T00:00:00', 'end_date': '2025-04-27T00:00:00', 'location': '구름아래소극장'}, {'site': '멜론티켓', 'title': 'NAZCA RECORDS CONCERT [나즈카 레코드 콘서트]', 'start_date': '2025-04-26T00:00:00', 'end_date': '2025-04-26T00:00:00', 'location': '벨로주 홍대'}, {'site': '멜론티켓', 'title': 'Sora Kim 2nd Album Release Concert', 'start_date': '2025-04-26T00:00:00', 'end_date': '2025-04-26T00:00:00', 'location': '톤 스튜디오'}, {'site': '멜론티켓', 'title': '우예린 단독 콘서트 ‘명화 ; 名花’ : 롤링 30주년 기념 공연', 'start_date': '2025-05-01T00:00:00', 'end_date': '2025-05-01T00:00:00', 'location': '롤링홀'}, {'site': '멜론티켓', 'title': '2025 10CM ‘Centiner MEMBERSHIP’ 이벤트 〈올해는 내려나 봄〉', 'start_date': '2025-05-03T00:00:00', 'end_date': '2025-05-03T00:00:00', 'location': 'KT&G 상상마당 춘천 야외공연장'}, {'site': '멜론티켓', 'title': '앵콜! 브로콜리너마저 클럽투어 - 광주', 'start_date': '2025-05-03T00:00:00', 'end_date': '2025-05-03T00:00:00', 'location': '보헤미안'}, {'site': '멜론티켓', 'title': '김마리 생일콘서트 ‘해피마리데이’ : 롤링 30주년 기념 공연', 'start_date': '2025-05-06T00:00:00', 'end_date': '2025-05-06T00:00:00', 'location': '롤링홀'}, {'site': '멜론티켓', 'title': '먼데이프로젝트 시즌8 THE ORIGINAL [서울전자음악단 단독 콘서트]', 'start_date': '2025-05-12T00:00:00', 'end_date': '2025-05-12T00:00:00', 'location': '클럽온에어'}, {'site': '멜론티켓', 'title': '먼데이프로젝트 IN 라이브클럽 [Erotic Worms Exhibition 단독콘서트]', 'start_date': '2025-05-15T00:00:00', 'end_date': '2025-05-15T00:00:00', 'location': '공상온도'}, {'site': '멜론티켓', 'title': '2025 KAI SOLO CONCERT TOUR 〈KAION〉 IN SEOUL', 'start_date': '2025-05-17T00:00:00', 'end_date': '2025-05-18T00:00:00', 'location': '올림픽공원 핸드볼경기장'}, {'site': '멜론티켓', 'title': 'Leaveourtears ASIA TOUR in SEOUL', 'start_date': '2025-05-17T00:00:00', 'end_date': '2025-05-17T00:00:00', 'location': '벨로주 홍대'}, {'site': '멜론티켓', 'title': 'TONE STUDIO LIVE 〈소울 딜리버리(Soul delivery)〉', 'start_date': '2025-05-17T00:00:00', 'end_date': '2025-05-17T00:00:00', 'location': '톤 스튜디오'}, {'site': '멜론티켓', 'title': '극동아시아타이거즈 전국투어〈호랑이 소리를 찾아서〉- 서울', 'start_date': '2025-05-17T00:00:00', 'end_date': '2025-05-17T00:00:00', 'location': 'KT&G 상상마당 홍대 라이브홀'}, {'site': '멜론티켓', 'title': '강지원 단독 공연 ‘Interseason’', 'start_date': '2025-05-18T00:00:00', 'end_date': '2025-05-18T00:00:00', 'location': '구름아래소극장'}, {'site': '멜론티켓', 'title': '2025 SONG SOHEE CONCERT : 롤링 30주년 기념 공연', 'start_date': '2025-05-23T00:00:00', 'end_date': '2025-05-23T00:00:00', 'location': '롤링홀'}, {'site': '멜론티켓', 'title': 'SHINee WORLD Ⅶ [E.S.S.A.Y] (Every Stage Shines Around You)', 'start_date': '2025-05-23T00:00:00', 'end_date': '2025-05-25T00:00:00', 'location': 'KSPO DOME (올림픽 체조경기장)'}, {'site': '멜론티켓', 'title': '신해경 단독 공연 ‘꽃이 피는 계절’ : 부산', 'start_date': '2025-05-24T00:00:00', 'end_date': '2025-05-24T00:00:00', 'location': 'KT&G 상상마당 부산 라이브홀'}, {'site': '멜론티켓', 'title': '키위 EP “Vertigo” 발매기념 단독공연 : Where are we headed now?', 'start_date': '2025-05-24T00:00:00', 'end_date': '2025-05-24T00:00:00', 'location': '벨로주 홍대'}, {'site': '멜론티켓', 'title': '마인드유 단독콘서트 ‘다시, 봄’ : 롤링 30주년 기념 공연', 'start_date': '2025-05-25T00:00:00', 'end_date': '2025-05-25T00:00:00', 'location': '롤링홀'}, {'site': '멜론티켓', 'title': 'dsel 단독콘서트 ‘운칠기삼’ : 롤링 30주년 기념 공연', 'start_date': '2025-05-30T00:00:00', 'end_date': '2025-05-30T00:00:00', 'location': '롤링홀'}, {'site': '멜론티켓', 'title': '제17회 서울재즈페스티벌 2025 블라인드', 'start_date': '2025-05-30T00:00:00', 'end_date': '2025-06-01T00:00:00', 'location': '올림픽공원'}, {'site': '멜론티켓', 'title': 'Leaveourtears ASIA TOUR in BUSAN', 'start_date': '2025-05-31T00:00:00', 'end_date': '2025-05-31T00:00:00', 'location': '부산 오방가르드'}, {'site': '멜론티켓', 'title': '극동아시아타이거즈 전국투어〈호랑이 소리를 찾아서〉- 부산', 'start_date': '2025-06-06T00:00:00', 'end_date': '2025-06-06T00:00:00', 'location': 'KT&G 상상마당 부산 라이브홀'}, {'site': '멜론티켓', 'title': '2025 DOYOUNG CONCERT [ Doors ]', 'start_date': '2025-06-14T00:00:00', 'end_date': '2025-06-15T00:00:00', 'location': '잠실실내체육관'}, {'site': '멜론티켓', 'title': '2025 IRENE & SEULGI Concert Tour [ BALANCE ] in SEOUL', 'start_date': '2025-06-14T00:00:00', 'end_date': '2025-06-15T00:00:00', 'location': '올림픽공원 올림픽홀'}, {'site': '멜론티켓', 'title': 'Shinsei Kamattechan Live in Seoul', 'start_date': '2025-06-18T00:00:00', 'end_date': '2025-06-18T00:00:00', 'location': '노들섬 라이브하우스'}, {'site': '멜론티켓', 'title': '극동아시아타이거즈 전국투어〈호랑이 소리를 찾아서〉- 춘천', 'start_date': '2025-06-28T00:00:00', 'end_date': '2025-06-28T00:00:00', 'location': 'KT&G 상상마당 춘천 사운드홀'}, {'site': '멜론티켓', 'title': '루시드폴, 정마리, 부지현 on Sync Next 25', 'start_date': '2025-07-04T00:00:00', 'end_date': '2025-07-06T00:00:00', 'location': '세종문화회관 S씨어터'}, {'site': '멜론티켓', 'title': '제이통 on Sync Next 25', 'start_date': '2025-08-08T00:00:00', 'end_date': '2025-08-09T00:00:00', 'location': '세종문화회관 S씨어터'}, {'site': '멜론티켓', 'title': '문상훈과 빠더너스 on Sync Next 25', 'start_date': '2025-08-22T00:00:00', 'end_date': '2025-08-24T00:00:00', 'location': '세종문화회관 S씨어터'}, {'site': '멜론티켓', 'title': '벌트vurt., 업체eobchae on Sync Next 25', 'start_date': '2025-09-05T00:00:00', 'end_date': '2025-09-06T00:00:00', 'location': '세종문화회관 S씨어터'}, {'site': '멜론티켓', 'title': '사운드 플래닛 페스티벌 2025 - 얼리버드 티켓', 'start_date': '2025-09-13T00:00:00', 'end_date': '2025-09-14T00:00:00', 'location': '인천 파라다이스시티'}]\n"
     ]
    }
   ],
   "source": [
    "print(concerts)"
   ]
  }
 ],
 "metadata": {
  "kernelspec": {
   "display_name": "Python 3 (ipykernel)",
   "language": "python",
   "name": "python3"
  },
  "language_info": {
   "codemirror_mode": {
    "name": "ipython",
    "version": 3
   },
   "file_extension": ".py",
   "mimetype": "text/x-python",
   "name": "python",
   "nbconvert_exporter": "python",
   "pygments_lexer": "ipython3",
   "version": "3.11.8"
  }
 },
 "nbformat": 4,
 "nbformat_minor": 5
}
