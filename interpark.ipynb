{
 "cells": [
  {
   "cell_type": "code",
   "execution_count": 60,
   "id": "16fa420f-936c-4422-b31e-0b3c4ec437b2",
   "metadata": {},
   "outputs": [],
   "source": [
    "from selenium.webdriver.chrome.service import Service\n",
    "from webdriver_manager.chrome import ChromeDriverManager\n",
    "from selenium import webdriver\n",
    "from selenium.webdriver.common.by import By"
   ]
  },
  {
   "cell_type": "code",
   "execution_count": 61,
   "id": "de6ce5fc",
   "metadata": {},
   "outputs": [],
   "source": [
    "# with webdriver.Chrome(service=Service(ChromeDriverManager().install())) as driver:\n",
    "from selenium.webdriver.support.ui import WebDriverWait\n",
    "from selenium.webdriver.support import expected_conditions as EC\n",
    "from selenium.webdriver import ActionChains\n",
    "import time"
   ]
  },
  {
   "cell_type": "code",
   "execution_count": 62,
   "id": "1837a82d",
   "metadata": {},
   "outputs": [
    {
     "name": "stdout",
     "output_type": "stream",
     "text": [
      "최대 스크롤 시간 초과 - 중단\n"
     ]
    }
   ],
   "source": [
    "concert_title = []\n",
    "concert_location = []\n",
    "concert_location_id = []\n",
    "concert_date = []\n",
    "locationId = {}\n",
    "\n",
    "site = { 1 : \"인터파크\",\n",
    "         2 : \"멜론티켓\",\n",
    "         3 : \"티켓링크\"}\n",
    "\n",
    "\n",
    "with webdriver.Chrome(service=Service(ChromeDriverManager().install())) as driver:\n",
    "    driver.get(\"https://tickets.interpark.com/contents/genre/concert\")\n",
    "\n",
    "    # click \"콘서트 전체보기\"\n",
    "    all_button = WebDriverWait(driver, 10).until(EC.presence_of_element_located((By.XPATH, '//*[@id=\"contents\"]/article[1]/section/div/div/div/button[1]')))\n",
    "    ActionChains(driver).click(all_button).perform()\n",
    "\n",
    "    # scroll down inifinitely, with a limit of 60 seconds\n",
    "    SCROLL_PAUSE_TIME = 5\n",
    "    MAX_SCROLL_DURATION = 10  # 최대 60초 (1분)\n",
    "\n",
    "    start_time = time.time()\n",
    "    last_height = driver.execute_script(\"return document.body.scrollHeight\")\n",
    "\n",
    "    while True:\n",
    "        current_time = time.time()\n",
    "        if current_time - start_time > MAX_SCROLL_DURATION:\n",
    "            print(\"최대 스크롤 시간 초과 - 중단\")\n",
    "            break\n",
    "\n",
    "        # scroll down to the bottom\n",
    "        driver.execute_script(\"window.scrollTo(0, document.body.scrollHeight);\")\n",
    "        time.sleep(SCROLL_PAUSE_TIME)\n",
    "\n",
    "        new_height = driver.execute_script(\"return document.body.scrollHeight\")\n",
    "        if new_height == last_height:\n",
    "            print(\"더 이상 스크롤할 내용 없음 - 중단\")\n",
    "            break\n",
    "\n",
    "        last_height = new_height\n",
    "    # end of the scrolling\n",
    "\n",
    "\n",
    "    # locate the concert container and append the concert information\n",
    "    container = driver.find_element(By.XPATH, '//*[@id=\"contents\"]/article[5]/section/div[2]/div[2]')\n",
    "    a_tags = container.find_elements(By.TAG_NAME, \"a\")\n",
    "\n",
    "    for i in range(1, len(a_tags)+1):\n",
    "        concert_title.append(driver.find_element(By.XPATH, f'//*[@id=\"contents\"]/article[5]/section/div[2]/div[2]/a[{i}]/ul/li[1]').text)\n",
    "        concert_location.append(driver.find_element(By.XPATH, f'//*[@id=\"contents\"]/article[5]/section/div[2]/div[2]/a[{i}]/ul/li[2]').text)\n",
    "        concert_date.append(driver.find_element(By.XPATH, f'//*[@id=\"contents\"]/article[5]/section/div[2]/div[2]/a[{i}]/ul/li[3]').text)"
   ]
  },
  {
   "cell_type": "code",
   "execution_count": 63,
   "id": "7eb4ba24",
   "metadata": {},
   "outputs": [
    {
     "data": {
      "text/plain": [
       "(25, 25, 25)"
      ]
     },
     "execution_count": 63,
     "metadata": {},
     "output_type": "execute_result"
    }
   ],
   "source": [
    "len(concert_title), len(concert_location), len(concert_date)"
   ]
  },
  {
   "cell_type": "code",
   "execution_count": 64,
   "id": "e21810d4",
   "metadata": {},
   "outputs": [],
   "source": [
    "concert_date[6].split(' ~ '), concert_date[7].split(' ~ ')\n",
    "from datetime import datetime\n",
    "import json\n",
    "\n",
    "# convert the date format from 'YYYY.MM.DD' to 'YYYY-MM-DD'\n",
    "def convert_date(raw_date):\n",
    "    parsed_date = datetime.strptime(raw_date, '%Y.%m.%d').date()\n",
    "    return parsed_date.strftime('%Y-%m-%d')\n",
    "\n",
    "# split the date into start and end dates\n",
    "def split_date(date):\n",
    "    date_arr = date.split(' ~ ')\n",
    "    if len(date_arr) == 1:\n",
    "        return convert_date(date_arr[0]), convert_date(date_arr[0])\n",
    "    elif len(date_arr) == 2:\n",
    "        return convert_date(date_arr[0]), convert_date(date_arr[0][:5]+date_arr[1])\n",
    "    \n",
    "\n",
    "# update the locationId dictionary and return the location id\n",
    "def convert_location_id(location):\n",
    "    locationId[location] = locationId.get(location, len(locationId) + 1)\n",
    "    return locationId[location]\n",
    "\n",
    "\n",
    "\n",
    "\n",
    "\n",
    "# convert the concert information into a JSON format\n",
    "def json_format(title_arr, location_arr, date_arr):\n",
    "    records = [{\n",
    "        \"title\": title,\n",
    "        \"location\": convert_location_id(location),\n",
    "        \"start_date\": split_date(date)[0],\n",
    "        \"end_date\": split_date(date)[1],\n",
    "        \"site\": 1\n",
    "        } for title, location, date in zip(title_arr, location_arr, date_arr)]\n",
    "    \n",
    "    return records\n",
    "\n",
    "\n",
    "#  create concert_info JSON file\n",
    "data = json_format(concert_title, concert_location, concert_date)\n",
    "with open('concerts.json', 'w', encoding='utf-8') as f:\n",
    "    json.dump(data, f, ensure_ascii=False, indent=2)\n",
    "\n",
    "# create locationId JSON file\n",
    "with open('locationId.json', 'w', encoding='utf-8') as f:\n",
    "    json.dump(locationId, f, ensure_ascii=False, indent=2)\n"
   ]
  },
  {
   "cell_type": "code",
   "execution_count": 56,
   "id": "f3c99aff",
   "metadata": {},
   "outputs": [
    {
     "data": {
      "text/plain": [
       "(24,\n",
       " ['고양종합운동장 주경기장',\n",
       "  '천안예술의전당 소공연장',\n",
       "  '올림픽공원',\n",
       "  '고양종합운동장',\n",
       "  '엑스코 동관',\n",
       "  '올림픽공원 88잔디마당, KSPO DOME',\n",
       "  '잠실 실내체육관',\n",
       "  '난지한강공원',\n",
       "  '일산 킨텍스 제1전시장 1홀',\n",
       "  '인천 남동체육관',\n",
       "  '창원컨벤션센터',\n",
       "  '인스파이어 엔터테인먼트 리조트',\n",
       "  '청주대학교 석우문화체육관',\n",
       "  '광주여대 유니버시아드 체육관',\n",
       "  '부산 벡스코 제1전시장',\n",
       "  '대전컨벤션센터 제2전시장',\n",
       "  '송도컨벤시아 4홀',\n",
       "  '안양체육관',\n",
       "  '경희대학교 국제캠퍼스 선승관',\n",
       "  '잠실실내체육관',\n",
       "  '일산 킨텍스 제2전시장 9홀',\n",
       "  '인스파이어 아레나',\n",
       "  '올림픽공원',\n",
       "  '성남아트센터 오페라하우스',\n",
       "  '킨텍스 제2전시장 10홀'])"
      ]
     },
     "execution_count": 56,
     "metadata": {},
     "output_type": "execute_result"
    }
   ],
   "source": [
    "len(locationId), concert_location"
   ]
  },
  {
   "cell_type": "code",
   "execution_count": null,
   "id": "0fd888cb",
   "metadata": {},
   "outputs": [],
   "source": []
  },
  {
   "cell_type": "code",
   "execution_count": null,
   "id": "000c0be2",
   "metadata": {},
   "outputs": [],
   "source": [
    "\n",
    "container = driver.find_element(By.XPATH, '//*[@id=\"contents\"]/article[5]/section/div[2]/div[2]')\n",
    "a_tags = container.find_elements(By.TAG_title, \"a\")\n",
    "print(f\"총 {len(a_tags)}개의 링크가 발견되었습니다.\")\n",
    "\n",
    "# container\n",
    "# //*[@id=\"contents\"]/article[5]/section/div[2]/div[2]\n",
    "\n",
    "#  Format of first concert\n",
    "# //*[@id=\"contents\"]/article[5]/section/div[2]/div[2]/a[1]/ul/li[1] 이름\n",
    "# //*[@id=\"contents\"]/article[5]/section/div[2]/div[2]/a[1]/ul/li[2] 장소In\n",
    "# //*[@id=\"contents\"]/article[5]/section/div[2]/div[2]/a[1]/ul/li[3] 날짜\n",
    "\n",
    "#  format of second concert\n",
    "# //*[@id=\"contents\"]/article[5]/section/div[2]/div[2]/a[2]/ul/li[1]\n"
   ]
  },
  {
   "cell_type": "code",
   "execution_count": null,
   "id": "891de265",
   "metadata": {},
   "outputs": [],
   "source": [
    "\"\"\"\n",
    "Yes24\n",
    "url = http://ticket.yes24.com/New/Rank/Ranking.aspx?genre=15456\n",
    "\n",
    "메인페이지에서 스크랩핑 하기에는 공연일자가 나오지 않음.\n",
    "rank 페이지에서 진행\n",
    "\n",
    "\n",
    "\n",
    "\n",
    "Best 3\n",
    "/html/body/div[5]/div[3]/div[1]/a/p[1] 제목1\n",
    "/html/body/div[5]/div[3]/div[2]/a/p[1] 제목2\n",
    "\n",
    "/html/body/div[5]/div[3]/div[1]/a/p[2]/text()[1] 공연일자1\n",
    "/html/body/div[5]/div[3]/div[1]/a/p[2]/text()[2] 장소1\n",
    "\n",
    "/html/body/div[5]/div[3]/div[2]/a/p[2]/text()[1] 공연일자2\n",
    "/html/body/div[5]/div[3]/div[2]/a/p[2]/text()[2] 장소2\n",
    "\n",
    "\n",
    "4위 이후~ \n",
    "/html/body/div[5]/div[4]/div[1]/div[3]/p[2]/a   이름1\n",
    "                          여기다\n",
    "/html/body/div[5]/div[4]/div[33]/div[3]/p[2]/a  이름2\n",
    "\n",
    "\n",
    "/html/body/div[5]/div[4]/div[33]/div[4]/p/text()[1] 날짜\n",
    "/html/body/div[5]/div[4]/div[33]/div[4]/p/text()[2] 장소\n",
    "                            여기\n",
    "/html/body/div[5]/div[4]/div[34]/div[4]/p/text()[1] 날짜\n",
    "\n",
    "\"\"\""
   ]
  }
 ],
 "metadata": {
  "kernelspec": {
   "display_name": "Python 3 (ipykernel)",
   "language": "python",
   "name": "python3"
  },
  "language_info": {
   "codemirror_mode": {
    "name": "ipython",
    "version": 3
   },
   "file_extension": ".py",
   "mimetype": "text/x-python",
   "name": "python",
   "nbconvert_exporter": "python",
   "pygments_lexer": "ipython3",
   "version": "3.13.3"
  }
 },
 "nbformat": 4,
 "nbformat_minor": 5
}
